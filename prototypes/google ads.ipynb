{
 "cells": [
  {
   "cell_type": "code",
   "execution_count": 55,
   "metadata": {},
   "outputs": [],
   "source": [
    "import json\n",
    "import pandas as pd\n",
    "from collections import defaultdict\n",
    "from io import StringIO\n",
    "from zip_archive import ZipArchive"
   ]
  },
  {
   "cell_type": "code",
   "execution_count": 56,
   "metadata": {},
   "outputs": [],
   "source": [
    "DATASET = \"../data/google-political-ads-transparency-bundle.zip\"\n",
    "ARCHIVE = ZipArchive(DATASET)"
   ]
  },
  {
   "cell_type": "code",
   "execution_count": 85,
   "metadata": {},
   "outputs": [],
   "source": [
    "class GoogleDataset(object):\n",
    "    GEO_SPEND = \"google-political-ads-transparency-bundle/google-political-ads-geo-spend.csv\"\n",
    "    ADVERTISER_STATS = \"google-political-ads-transparency-bundle/google-political-ads-advertiser-stats.csv\"\n",
    "    WEEKLY_SPEND = \"google-political-ads-transparency-bundle/google-political-ads-advertiser-weekly-spend.csv\"\n",
    "    ADS_STATS = \"google-political-ads-transparency-bundle/google-political-ads-creative-stats.csv\"\n",
    "    CAMP_TARGETS = \"google-political-ads-transparency-bundle/google-political-ads-campaign-targeting.csv\"\n",
    "    \n",
    "    \n",
    "    def __init__(self, dataset_filepath, filters):\n",
    "        self._archive = ZipArchive(dataset_filepath)\n",
    "        self._filters = filters\n",
    "        \n",
    "    def _load_dataframe(self, ds):\n",
    "        data = ARCHIVE.get(ds)\n",
    "        df = pd.read_csv(StringIO(data))\n",
    "        return df\n",
    "    \n",
    "    def advertisers(self, region):\n",
    "        stats_df = self._load_dataframe(self.ADVERTISER_STATS)\n",
    "        stats = json.loads(df.to_json(orient='records'))\n",
    "        advertisers = list(df[df['Regions'].str.contains(region)]['Advertiser_Name'])\n",
    "        return advertisers\n",
    "    \n",
    "    def generate_dataset(self):\n",
    "        \n",
    "        ads_df = self._load_dataframe(self.ADS_STATS)\n",
    "        stats_df = self._load_dataframe(self.ADVERTISER_STATS)\n",
    "        weekly_df = self._load_dataframe(self.WEEKLY_SPEND)\n",
    "        \n",
    "        dataset = {}\n",
    "        \n",
    "        for label, term in self._filters.items():\n",
    "            df = ads_df[ads_df['Advertiser_Name'].str.contains(term)]\n",
    "            ads = json.loads(df.to_json(orient='records'))\n",
    "            advertisers = [ x['Advertiser_Name'] for x in ads ]\n",
    "            \n",
    "            df = stats_df[stats_df['Advertiser_Name'].str.contains(term)]\n",
    "            stats = json.loads(df.to_json(orient='records'))\n",
    "            total_spending = sum([ x['Spend_EUR'] for x in stats])\n",
    "            \n",
    "            weekly_spending = defaultdict(int)\n",
    "            df = weekly_df[weekly_df['Advertiser_Name'].str.contains(term)]\n",
    "            weekly = json.loads(df.to_json(orient='records'))\n",
    "            for w in weekly:\n",
    "                weekly_spending[w['Week_Start_Date']] += w['Spend_EUR']\n",
    "            #weekly_spending = { x['Week_Start_Date']: x['Spend_EUR'] for x in weekly}\n",
    "            \n",
    "            dataset[label] = {\n",
    "                'advertisers': list(set(advertisers)),\n",
    "                'total_spending': total_spending,\n",
    "                'weekly_spending': dict(weekly_spending),\n",
    "                'ads': ads \n",
    "            }\n",
    "            print(label, term)\n",
    "        return dataset\n",
    "    "
   ]
  },
  {
   "cell_type": "code",
   "execution_count": 86,
   "metadata": {},
   "outputs": [],
   "source": [
    "gd = GoogleDataset(DATASET, { 'FPÖ': 'Freih', 'SPÖ': 'SPÖ' })"
   ]
  },
  {
   "cell_type": "code",
   "execution_count": 91,
   "metadata": {},
   "outputs": [
    {
     "data": {
      "text/plain": [
       "['Sozialdemokratische Partei Österreichs (SPÖ)',\n",
       " 'SPÖ-Landesorganisation Burgenland',\n",
       " 'Sozialdemokratische Partei Österreichs (SPÖ)',\n",
       " 'Freiheitliche Partei Österreich']"
      ]
     },
     "execution_count": 91,
     "metadata": {},
     "output_type": "execute_result"
    }
   ],
   "source": [
    "gd.advertisers('AT')"
   ]
  },
  {
   "cell_type": "code",
   "execution_count": null,
   "metadata": {},
   "outputs": [],
   "source": []
  }
 ],
 "metadata": {
  "kernelspec": {
   "display_name": "Python 3",
   "language": "python",
   "name": "python3"
  },
  "language_info": {
   "codemirror_mode": {
    "name": "ipython",
    "version": 3
   },
   "file_extension": ".py",
   "mimetype": "text/x-python",
   "name": "python",
   "nbconvert_exporter": "python",
   "pygments_lexer": "ipython3",
   "version": "3.6.7"
  }
 },
 "nbformat": 4,
 "nbformat_minor": 2
}
